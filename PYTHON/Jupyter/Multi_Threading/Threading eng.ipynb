{
 "cells": [
  {
   "cell_type": "code",
   "execution_count": 2,
   "metadata": {},
   "outputs": [],
   "source": [
    "import threading"
   ]
  },
  {
   "cell_type": "code",
   "execution_count": 3,
   "metadata": {},
   "outputs": [],
   "source": [
    "def test(id):\n",
    "    print (\"this is my test id %d \" %id)"
   ]
  },
  {
   "cell_type": "code",
   "execution_count": 4,
   "metadata": {},
   "outputs": [
    {
     "name": "stdout",
     "output_type": "stream",
     "text": [
      "this is my test id 22 \n"
     ]
    }
   ],
   "source": [
    "test(22)"
   ]
  },
  {
   "cell_type": "code",
   "execution_count": 6,
   "metadata": {},
   "outputs": [],
   "source": [
    "# The code is creating a list of threads using a list comprehension. Each thread is created using the `threading.Thread` class and is passed a target function `test` and an argument `i` from the list `[10, 1, 3]`.\n",
    "thread = [threading.Thread(target=test ,args=(i,)) for i in [10,1,3]]"
   ]
  },
  {
   "cell_type": "code",
   "execution_count": 7,
   "metadata": {},
   "outputs": [
    {
     "name": "stdout",
     "output_type": "stream",
     "text": [
      "[<Thread(Thread-5 (test), initial)>, <Thread(Thread-6 (test), initial)>, <Thread(Thread-7 (test), initial)>]\n"
     ]
    }
   ],
   "source": [
    "print(thread)"
   ]
  },
  {
   "cell_type": "code",
   "execution_count": 8,
   "metadata": {},
   "outputs": [
    {
     "name": "stdout",
     "output_type": "stream",
     "text": [
      "<Thread(Thread-5 (test), initial)>\n",
      "<Thread(Thread-6 (test), initial)>\n",
      "<Thread(Thread-7 (test), initial)>\n"
     ]
    }
   ],
   "source": [
    "for t in thread:\n",
    "    print(t)"
   ]
  },
  {
   "cell_type": "code",
   "execution_count": 9,
   "metadata": {},
   "outputs": [
    {
     "name": "stdout",
     "output_type": "stream",
     "text": [
      "this is my test id 10 \n",
      "this is my test id 1 \n",
      "this is my test id 3 \n"
     ]
    }
   ],
   "source": [
    "for t in thread:\n",
    "    t.start()"
   ]
  },
  {
   "cell_type": "code",
   "execution_count": 10,
   "metadata": {},
   "outputs": [],
   "source": [
    "import urllib.request\n",
    "\n",
    "def file_download(url,filename):\n",
    "    urllib.request.urlretrieve(url,filename)"
   ]
  },
  {
   "cell_type": "code",
   "execution_count": 11,
   "metadata": {},
   "outputs": [],
   "source": [
    "file_download(\"https://raw.githubusercontent.com/itsfoss/text-files/master/agatha.txt\",\"test2.txt\")"
   ]
  },
  {
   "cell_type": "code",
   "execution_count": 12,
   "metadata": {},
   "outputs": [],
   "source": [
    "url_list=['https://raw.githubusercontent.com/itsfoss/text-files/master/agatha.txt' , 'https://raw.githubusercontent.com/itsfoss/text-files/master/sherlock.txt' ,'https://raw.githubusercontent.com/itsfoss/text-files/master/sample_log_file.txt']"
   ]
  },
  {
   "cell_type": "code",
   "execution_count": 13,
   "metadata": {},
   "outputs": [
    {
     "data": {
      "text/plain": [
       "['https://raw.githubusercontent.com/itsfoss/text-files/master/agatha.txt',\n",
       " 'https://raw.githubusercontent.com/itsfoss/text-files/master/sherlock.txt',\n",
       " 'https://raw.githubusercontent.com/itsfoss/text-files/master/sample_log_file.txt']"
      ]
     },
     "execution_count": 13,
     "metadata": {},
     "output_type": "execute_result"
    }
   ],
   "source": [
    "url_list"
   ]
  },
  {
   "cell_type": "code",
   "execution_count": 14,
   "metadata": {},
   "outputs": [],
   "source": [
    "data_file_list=[\"data1.txt\",\"data2.txt\",\"data3.txt\"]"
   ]
  },
  {
   "cell_type": "code",
   "execution_count": 15,
   "metadata": {},
   "outputs": [
    {
     "data": {
      "text/plain": [
       "['data1.txt', 'data2.txt', 'data3.txt']"
      ]
     },
     "execution_count": 15,
     "metadata": {},
     "output_type": "execute_result"
    }
   ],
   "source": [
    "data_file_list"
   ]
  },
  {
   "cell_type": "code",
   "execution_count": 16,
   "metadata": {},
   "outputs": [],
   "source": [
    "# file_download is function written by me to download file form the url\n",
    "thread1=[threading.Thread(target=file_download,args=(url_list[i],data_file_list[i])) for i in range(len(url_list))]"
   ]
  },
  {
   "cell_type": "code",
   "execution_count": 17,
   "metadata": {},
   "outputs": [
    {
     "data": {
      "text/plain": [
       "[<Thread(Thread-8 (file_download), initial)>,\n",
       " <Thread(Thread-9 (file_download), initial)>,\n",
       " <Thread(Thread-10 (file_download), initial)>]"
      ]
     },
     "execution_count": 17,
     "metadata": {},
     "output_type": "execute_result"
    }
   ],
   "source": [
    "thread1"
   ]
  },
  {
   "cell_type": "code",
   "execution_count": 18,
   "metadata": {},
   "outputs": [],
   "source": [
    "for i in thread1:\n",
    "    i.start()"
   ]
  },
  {
   "cell_type": "code",
   "execution_count": 19,
   "metadata": {},
   "outputs": [
    {
     "data": {
      "text/plain": [
       "[<Thread(Thread-8 (file_download), stopped 1540)>,\n",
       " <Thread(Thread-9 (file_download), stopped 6928)>,\n",
       " <Thread(Thread-10 (file_download), stopped 6880)>]"
      ]
     },
     "execution_count": 19,
     "metadata": {},
     "output_type": "execute_result"
    }
   ],
   "source": [
    "thread1"
   ]
  },
  {
   "cell_type": "code",
   "execution_count": 24,
   "metadata": {},
   "outputs": [],
   "source": [
    "import json \n",
    "import io"
   ]
  },
  {
   "cell_type": "code",
   "execution_count": 23,
   "metadata": {},
   "outputs": [
    {
     "name": "stdout",
     "output_type": "stream",
     "text": [
      "The Mysterious Affair at Styles\n",
      "The Secret Adversary\n",
      "The Murder on the Links\n",
      "The Man in the Brown Suit\n",
      "The Secret of Chimneys\n",
      "The Murder of Roger Ackroyd\n",
      "The Big Four\n",
      "The Mystery of the Blue Train\n",
      "The Seven Dials Mystery\n",
      "The Murder at the Vicarage\n",
      "Giant's Bread\n",
      "The Floating Admiral\n",
      "The Sittaford Mystery\n",
      "Peril at End House\n",
      "Lord Edgware Dies\n",
      "Murder on the Orient Express\n",
      "Unfinished Portrait\n",
      "Why Didn't They Ask Evans?\n",
      "Three Act Tragedy\n",
      "Death in the Clouds\n",
      "\n"
     ]
    }
   ],
   "source": [
    "with open(\"data1.txt\" ,\"r\") as f:\n",
    "    print(f.read())"
   ]
  },
  {
   "cell_type": "code",
   "execution_count": 27,
   "metadata": {},
   "outputs": [
    {
     "name": "stdout",
     "output_type": "stream",
     "text": [
      "A Scandal in Bohemia\n",
      "The Red-Headed League\n",
      "A Case of Identity\n",
      "The Boscombe Valley Mystery\n",
      "The Five Orange Pips\n",
      "The Man with the Twisted Lip\n",
      "The Adventure of the Blue Carbuncle\n",
      "The Adventure of the Speckled Band\n",
      "The Adventure of the Engineer's Thumb\n",
      "The Adventure of the Noble Bachelor\n",
      "The Adventure of the Beryl Coronet\n",
      "The Adventure of the Copper Beeches\n",
      "\n"
     ]
    }
   ],
   "source": [
    "with open(\"data2.txt\",\"r\") as f:\n",
    "    print(f.read())"
   ]
  },
  {
   "cell_type": "code",
   "execution_count": 1,
   "metadata": {},
   "outputs": [],
   "source": [
    "import time"
   ]
  },
  {
   "cell_type": "code",
   "execution_count": 2,
   "metadata": {},
   "outputs": [],
   "source": [
    "def test2(x):\n",
    "    for i in range(10):\n",
    "        print (\"this print the value of x %d and print the value of i  %d\"%(x,i))\n",
    "        time.sleep(1)"
   ]
  },
  {
   "cell_type": "code",
   "execution_count": 3,
   "metadata": {},
   "outputs": [
    {
     "ename": "NameError",
     "evalue": "name 'threading' is not defined",
     "output_type": "error",
     "traceback": [
      "\u001b[1;31m---------------------------------------------------------------------------\u001b[0m",
      "\u001b[1;31mNameError\u001b[0m                                 Traceback (most recent call last)",
      "Cell \u001b[1;32mIn[3], line 1\u001b[0m\n\u001b[1;32m----> 1\u001b[0m thread2\u001b[39m=\u001b[39m[threading\u001b[39m.\u001b[39mThread(target\u001b[39m=\u001b[39mtest2,args\u001b[39m=\u001b[39m(i,)) \u001b[39mfor\u001b[39;00m i \u001b[39min\u001b[39;00m [\u001b[39m100\u001b[39m,\u001b[39m10\u001b[39m,\u001b[39m20\u001b[39m,\u001b[39m5\u001b[39m]] \n",
      "Cell \u001b[1;32mIn[3], line 1\u001b[0m, in \u001b[0;36m<listcomp>\u001b[1;34m(.0)\u001b[0m\n\u001b[1;32m----> 1\u001b[0m thread2\u001b[39m=\u001b[39m[threading\u001b[39m.\u001b[39mThread(target\u001b[39m=\u001b[39mtest2,args\u001b[39m=\u001b[39m(i,)) \u001b[39mfor\u001b[39;00m i \u001b[39min\u001b[39;00m [\u001b[39m100\u001b[39m,\u001b[39m10\u001b[39m,\u001b[39m20\u001b[39m,\u001b[39m5\u001b[39m]] \n",
      "\u001b[1;31mNameError\u001b[0m: name 'threading' is not defined"
     ]
    }
   ],
   "source": [
    "thread2=[threading.Thread(target=test2,args=(i,)) for i in [100,10,20,5]] "
   ]
  },
  {
   "cell_type": "code",
   "execution_count": 1,
   "metadata": {},
   "outputs": [],
   "source": [
    "import time"
   ]
  },
  {
   "cell_type": "code",
   "execution_count": 3,
   "metadata": {},
   "outputs": [],
   "source": [
    "def test2(x):\n",
    "    for i in range (10):\n",
    "        print(\"test1 print the value of x %d and print the value of i %d \"%(x,i))\n",
    "        time.sleep(1)"
   ]
  },
  {
   "cell_type": "code",
   "execution_count": 2,
   "metadata": {},
   "outputs": [],
   "source": [
    "import threading"
   ]
  },
  {
   "cell_type": "code",
   "execution_count": 4,
   "metadata": {},
   "outputs": [],
   "source": [
    "thread3=[threading.Thread(target=test2,args=(i,)) for i in [100,10,20,4]]"
   ]
  },
  {
   "cell_type": "code",
   "execution_count": 5,
   "metadata": {},
   "outputs": [
    {
     "name": "stdout",
     "output_type": "stream",
     "text": [
      "test1 print the value of x 100 and print the value of i 0 \n",
      "test1 print the value of x 10 and print the value of i 0 \n",
      "test1 print the value of x 20 and print the value of i 0 \n",
      "test1 print the value of x 4 and print the value of i 0 \n"
     ]
    },
    {
     "name": "stdout",
     "output_type": "stream",
     "text": [
      "test1 print the value of x 20 and print the value of i 1 \n",
      "test1 print the value of x 10 and print the value of i 1 \n",
      "test1 print the value of x 4 and print the value of i 1 \n",
      "test1 print the value of x 100 and print the value of i 1 \n",
      "test1 print the value of x 100 and print the value of i 2 test1 print the value of x 4 and print the value of i 2 \n",
      "test1 print the value of x 10 and print the value of i 2 \n",
      "test1 print the value of x 20 and print the value of i 2 \n",
      "\n",
      "test1 print the value of x 20 and print the value of i 3 test1 print the value of x 100 and print the value of i 3 \n",
      "test1 print the value of x 10 and print the value of i 3 \n",
      "test1 print the value of x 4 and print the value of i 3 \n",
      "\n",
      "test1 print the value of x 20 and print the value of i 4 test1 print the value of x 4 and print the value of i 4 \n",
      "test1 print the value of x 10 and print the value of i 4 \n",
      "test1 print the value of x 100 and print the value of i 4 \n",
      "\n",
      "test1 print the value of x 20 and print the value of i 5 test1 print the value of x 100 and print the value of i 5 \n",
      "test1 print the value of x 10 and print the value of i 5 \n",
      "test1 print the value of x 4 and print the value of i 5 \n",
      "\n",
      "test1 print the value of x 20 and print the value of i 6 test1 print the value of x 4 and print the value of i 6 \n",
      "test1 print the value of x 10 and print the value of i 6 \n",
      "test1 print the value of x 100 and print the value of i 6 \n",
      "\n",
      "test1 print the value of x 100 and print the value of i 7 test1 print the value of x 10 and print the value of i 7 \n",
      "test1 print the value of x 20 and print the value of i 7 \n",
      "test1 print the value of x 4 and print the value of i 7 \n",
      "\n",
      "test1 print the value of x 4 and print the value of i 8 \n",
      "test1 print the value of x 100 and print the value of i 8 \n",
      "test1 print the value of x 10 and print the value of i 8 \n",
      "test1 print the value of x 20 and print the value of i 8 \n",
      "test1 print the value of x 20 and print the value of i 9 \n",
      "test1 print the value of x 10 and print the value of i 9 \n",
      "test1 print the value of x 4 and print the value of i 9 \n",
      "test1 print the value of x 100 and print the value of i 9 \n"
     ]
    }
   ],
   "source": [
    "for  t in thread3:\n",
    "    t.start()"
   ]
  },
  {
   "cell_type": "code",
   "execution_count": 6,
   "metadata": {},
   "outputs": [
    {
     "name": "stdout",
     "output_type": "stream",
     "text": [
      "test1 print the value of x 2 and print the value of i 0 \n",
      "test1 print the value of x 2 and print the value of i 1 \n",
      "test1 print the value of x 2 and print the value of i 2 \n",
      "test1 print the value of x 2 and print the value of i 3 \n",
      "test1 print the value of x 2 and print the value of i 4 \n",
      "test1 print the value of x 2 and print the value of i 5 \n",
      "test1 print the value of x 2 and print the value of i 6 \n",
      "test1 print the value of x 2 and print the value of i 7 \n",
      "test1 print the value of x 2 and print the value of i 8 \n",
      "test1 print the value of x 2 and print the value of i 9 \n"
     ]
    }
   ],
   "source": [
    "test2(2)"
   ]
  },
  {
   "cell_type": "code",
   "execution_count": 12,
   "metadata": {},
   "outputs": [
    {
     "name": "stdout",
     "output_type": "stream",
     "text": [
      "value of x 1 and value of shared_var 1\n"
     ]
    },
    {
     "name": "stdout",
     "output_type": "stream",
     "text": [
      "value of x 2 and value of shared_var 2\n",
      "value of x 3 and value of shared_var 3\n",
      "value of x 4 and value of shared_var 4\n",
      "value of x 5 and value of shared_var 5\n",
      "value of x 6 and value of shared_var 6\n"
     ]
    }
   ],
   "source": [
    "import threading\n",
    "import time\n",
    "shared_var=0\n",
    "lock_var=threading.Lock()\n",
    "def test4(x):\n",
    "    global shared_var\n",
    "    with lock_var:\n",
    "        shared_var=shared_var+1\n",
    "        print(\"value of x %d and value of shared_var %d\"%(x,shared_var))\n",
    "        time.sleep(1)\n",
    "    \n",
    "thread5=[threading.Thread(target=test4,args=(i,)) for i in [1,2,3,4,5,6]]\n",
    "    \n",
    "for t in thread5:\n",
    "    t.start()"
   ]
  },
  {
   "cell_type": "code",
   "execution_count": 2,
   "metadata": {},
   "outputs": [],
   "source": [
    "import threading \n",
    "import time"
   ]
  },
  {
   "cell_type": "code",
   "execution_count": 4,
   "metadata": {},
   "outputs": [],
   "source": [
    "shared_var=0\n",
    "lock_var =threading.Lock()\n",
    "def test5(x):\n",
    "    global shared_var \n",
    "    with lock_var:\n",
    "        shared_var =shared_var+1\n",
    "        print(\"value of x %d and value of shared_var %d\" %(x,shared_var))\n",
    "        time.sleep(1)\n",
    "\n",
    "thread6=[threading.Thread(target=test5,args=(i,)) for i in [1,2,3,4,5,6]]"
   ]
  },
  {
   "cell_type": "code",
   "execution_count": 5,
   "metadata": {},
   "outputs": [
    {
     "name": "stdout",
     "output_type": "stream",
     "text": [
      "value of x 1 and value of shared_var 1\n"
     ]
    },
    {
     "name": "stdout",
     "output_type": "stream",
     "text": [
      "value of x 2 and value of shared_var 2\n",
      "value of x 3 and value of shared_var 3\n",
      "value of x 4 and value of shared_var 4\n",
      "value of x 5 and value of shared_var 5\n",
      "value of x 6 and value of shared_var 6\n"
     ]
    }
   ],
   "source": [
    "for t in thread6:\n",
    "    t.start()"
   ]
  },
  {
   "cell_type": "code",
   "execution_count": null,
   "metadata": {},
   "outputs": [],
   "source": []
  }
 ],
 "metadata": {
  "kernelspec": {
   "display_name": "Python 3",
   "language": "python",
   "name": "python3"
  },
  "language_info": {
   "codemirror_mode": {
    "name": "ipython",
    "version": 3
   },
   "file_extension": ".py",
   "mimetype": "text/x-python",
   "name": "python",
   "nbconvert_exporter": "python",
   "pygments_lexer": "ipython3",
   "version": "3.10.11"
  },
  "orig_nbformat": 4
 },
 "nbformat": 4,
 "nbformat_minor": 2
}
