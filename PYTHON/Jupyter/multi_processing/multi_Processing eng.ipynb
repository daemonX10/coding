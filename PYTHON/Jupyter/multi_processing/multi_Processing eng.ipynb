{
 "cells": [
  {
   "cell_type": "code",
   "execution_count": null,
   "metadata": {},
   "outputs": [],
   "source": [
    "import multiprocessing"
   ]
  },
  {
   "cell_type": "code",
   "execution_count": null,
   "metadata": {},
   "outputs": [],
   "source": [
    "def test():\n",
    "    print(\"this is a test program\")"
   ]
  },
  {
   "cell_type": "code",
   "execution_count": null,
   "metadata": {},
   "outputs": [],
   "source": [
    "test()"
   ]
  },
  {
   "cell_type": "code",
   "execution_count": null,
   "metadata": {},
   "outputs": [],
   "source": [
    "if __name__==\"__main__\":\n",
    "    m=multiprocessing.Process(target=test)\n",
    "    print(\"this is my main program\")\n",
    "    m.start()\n",
    "    m.join()\n",
    "    "
   ]
  },
  {
   "cell_type": "code",
   "execution_count": null,
   "metadata": {},
   "outputs": [],
   "source": [
    "import multiprocessing\n",
    "\n",
    "def test():\n",
    "    print(\"this is my multiprocessing prog\")\n",
    "\n",
    "if __name__ == \"__main__\":\n",
    "    m = multiprocessing.Process(target=test)\n",
    "    print(\"this is my main prod\")\n",
    "    m.start()\n",
    "    m.join()\n",
    "    "
   ]
  },
  {
   "cell_type": "code",
   "execution_count": null,
   "metadata": {},
   "outputs": [],
   "source": [
    "test()"
   ]
  },
  {
   "cell_type": "code",
   "execution_count": null,
   "metadata": {},
   "outputs": [],
   "source": [
    "import multiprocessing\n",
    "def square (n):\n",
    "    return n**2\n",
    "if __name__==\"__main__\":\n",
    "    with multiprocessing.Pool(processes=5) as pool:\n",
    "        out = pool.map(square,[3,4,5,6,7,8,9])\n",
    "        pool.close()\n",
    "        pool.join() \n",
    "        print(out)\n",
    "    # The line `with multiprocessing.Pool(processes=5) as pool:` is creating a pool of worker processes for parallel execution of tasks. The `processes=5` argument specifies that the pool should have 5 worker processes. The `with` statement ensures that the pool is properly closed and resources are released after the tasks are completed."
   ]
  },
  {
   "cell_type": "code",
   "execution_count": null,
   "metadata": {},
   "outputs": [],
   "source": [
    "# %% [markdown]\n",
    "print(list(map(square,[3,4,5,6,7,8])))"
   ]
  },
  {
   "cell_type": "code",
   "execution_count": null,
   "metadata": {
    "tags": []
   },
   "outputs": [],
   "source": [
    "import multiprocessing as mp\n",
    "\n",
    "def producer(q):\n",
    "    for i in [\"sudh\",\"kumar\",\"pwskills\",\"krish\", \"naik\"]:\n",
    "        q.put(i)\n",
    "\n",
    "def consume(q):\n",
    "    # The `while True:` statement creates an infinite loop. It means that the code inside the loop will keep executing indefinitely until a break statement is encountered. In this case, the loop will continue to execute until the `break` statement is reached when the `item` is `None`.\n",
    "    while True:\n",
    "        item=q.get()\n",
    "        if item is None:\n",
    "            break\n",
    "        print(q)\n",
    "\n",
    "if __name__==\"__main__\":\n",
    "    queue=mp.Queue()\n",
    "    m1=mp.Process(target=producer,args=(queue,))\n",
    "    m2=mp.Process(target=consume,args=(queue,))\n",
    "    m1.start()\n",
    "    m2.start()\n",
    "    m1.join()\n",
    "    m2.join()\n"
   ]
  },
  {
   "cell_type": "code",
   "execution_count": null,
   "metadata": {},
   "outputs": [],
   "source": [
    "import multiprocessing\n",
    "\n",
    "def square(index,value):\n",
    "    value[index]=value[index]**2\n",
    "\n",
    "if __name__==\"__main__\":\n",
    "    arr=multiprocessing.Array(\"i\",[2,3,4,5,6,7,8,9,10])\n",
    "    lock=multiprocessing.Lock()\n",
    "    process=[]\n",
    "    for i in range(10):\n",
    "        m=multiprocessing.Process(target=square, args=(i,arr))\n",
    "        process.append(m)\n",
    "        m.start()\n",
    "    for m in process:\n",
    "        m.join()\n",
    "    print(list(arr))\n"
   ]
  },
  {
   "cell_type": "code",
   "execution_count": null,
   "metadata": {},
   "outputs": [],
   "source": [
    "import multiprocessing"
   ]
  },
  {
   "cell_type": "code",
   "execution_count": 1,
   "metadata": {},
   "outputs": [],
   "source": [
    "import multiprocessing\n",
    "\n",
    "def sender(conn,msg):\n",
    "    for i in msg:\n",
    "        conn.send(i)\n",
    "    conn.close()\n",
    "\n",
    "def receive(conn):\n",
    "    while True:\n",
    "        try:\n",
    "            msg=conn.recv()\n",
    "        except Exception as e:\n",
    "            print(e)\n",
    "            break\n",
    "        print(msg)\n",
    "\n",
    "if __name__==\"__main__\":\n",
    "    msg=[\"my name is sudh\" , \"this is my msg  to my students \" , \"i am taking class for dsm \" , \"try to practice all the code \"]\n",
    "    parent_conn,child_conn=multiprocessing.Pipe()\n",
    "    m1=multiprocessing.Process(target=sender,args=(child_conn,msg))\n",
    "    m2=multiprocessing.Process(target=receive,args=(parent_conn,))\n",
    "    m1.start()\n",
    "    m2.start()\n",
    "    m1.join()\n",
    "    child_conn.close()\n",
    "    m2.join()\n",
    "    parent_conn.close()"
   ]
  },
  {
   "cell_type": "code",
   "execution_count": null,
   "metadata": {},
   "outputs": [],
   "source": []
  }
 ],
 "metadata": {
  "kernelspec": {
   "display_name": "Python 3",
   "language": "python",
   "name": "python3"
  },
  "language_info": {
   "codemirror_mode": {
    "name": "ipython",
    "version": 3
   },
   "file_extension": ".py",
   "mimetype": "text/x-python",
   "name": "python",
   "nbconvert_exporter": "python",
   "pygments_lexer": "ipython3",
   "version": "3.11.4"
  },
  "orig_nbformat": 4
 },
 "nbformat": 4,
 "nbformat_minor": 2
}
